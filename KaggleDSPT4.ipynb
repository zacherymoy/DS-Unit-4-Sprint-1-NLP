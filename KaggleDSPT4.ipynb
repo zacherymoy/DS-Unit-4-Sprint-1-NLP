{
  "nbformat": 4,
  "nbformat_minor": 0,
  "metadata": {
    "colab": {
      "name": "KaggleDSPT4.ipynb",
      "provenance": [],
      "authorship_tag": "ABX9TyMHb1Iyjesp3d3tuJVlXPK7",
      "include_colab_link": true
    },
    "kernelspec": {
      "name": "python3",
      "display_name": "Python 3"
    }
  },
  "cells": [
    {
      "cell_type": "markdown",
      "metadata": {
        "id": "view-in-github",
        "colab_type": "text"
      },
      "source": [
        "<a href=\"https://colab.research.google.com/github/zacherymoy/DS-Unit-4-Sprint-1-NLP/blob/master/KaggleDSPT4.ipynb\" target=\"_parent\"><img src=\"https://colab.research.google.com/assets/colab-badge.svg\" alt=\"Open In Colab\"/></a>"
      ]
    },
    {
      "cell_type": "code",
      "metadata": {
        "id": "UjmCdDp6g_tq",
        "colab_type": "code",
        "colab": {}
      },
      "source": [
        "# import zipfile\n",
        "\n",
        "# with zipfile.ZipFile(\"whiskey-reviews-dspt4.zip\",\"r\") as zip_ref:\n",
        "#     zip_ref.extractall(\"targetdir\")"
      ],
      "execution_count": 0,
      "outputs": []
    },
    {
      "cell_type": "code",
      "metadata": {
        "id": "EwgEwm-8iApR",
        "colab_type": "code",
        "colab": {}
      },
      "source": [
        "import pandas\n",
        "from sklearn.utils import resample\n",
        "\n",
        "sample_submission_csv = pandas.read_csv('sample_submission.csv')\n",
        "test = pandas.read_csv('test.csv')\n",
        "train = pandas.read_csv('train.csv')\n",
        "\n",
        "minority = train[train['ratingCategory'] == 0]\n",
        "majority = train[train['ratingCategory'] == 1]\n",
        "\n",
        "df_minority_upsampled = resample(minority,\n",
        "                                 replace=True,\n",
        "                                 n_samples=majority.shape[0]\n",
        "                                )\n",
        "df_upsampled = pd.concat([majority, df_minority_upsampled])"
      ],
      "execution_count": 0,
      "outputs": []
    },
    {
      "cell_type": "code",
      "metadata": {
        "id": "xT5WAswylvfl",
        "colab_type": "code",
        "colab": {}
      },
      "source": [
        "from sklearn.pipeline import Pipeline\n",
        "from sklearn.datasets import fetch_20newsgroups\n",
        "from sklearn.ensemble import RandomForestClassifier\n",
        "from sklearn.model_selection import GridSearchCV\n",
        "from sklearn.feature_extraction.text import TfidfVectorizer"
      ],
      "execution_count": 0,
      "outputs": []
    },
    {
      "cell_type": "markdown",
      "metadata": {
        "id": "UysLrowppPqO",
        "colab_type": "text"
      },
      "source": [
        "## Load Data "
      ]
    },
    {
      "cell_type": "code",
      "metadata": {
        "id": "W5Hi-EUDpVsO",
        "colab_type": "code",
        "outputId": "c4e1062e-539d-4fc5-85b0-27b80890776f",
        "colab": {
          "base_uri": "https://localhost:8080/",
          "height": 204
        }
      },
      "source": [
        "df_upsampled.head()\n"
      ],
      "execution_count": 16,
      "outputs": [
        {
          "output_type": "execute_result",
          "data": {
            "text/html": [
              "<div>\n",
              "<style scoped>\n",
              "    .dataframe tbody tr th:only-of-type {\n",
              "        vertical-align: middle;\n",
              "    }\n",
              "\n",
              "    .dataframe tbody tr th {\n",
              "        vertical-align: top;\n",
              "    }\n",
              "\n",
              "    .dataframe thead th {\n",
              "        text-align: right;\n",
              "    }\n",
              "</style>\n",
              "<table border=\"1\" class=\"dataframe\">\n",
              "  <thead>\n",
              "    <tr style=\"text-align: right;\">\n",
              "      <th></th>\n",
              "      <th>id</th>\n",
              "      <th>description</th>\n",
              "      <th>ratingCategory</th>\n",
              "    </tr>\n",
              "  </thead>\n",
              "  <tbody>\n",
              "    <tr>\n",
              "      <th>0</th>\n",
              "      <td>1321</td>\n",
              "      <td>\\nSometimes, when whisky is batched, a few lef...</td>\n",
              "      <td>1</td>\n",
              "    </tr>\n",
              "    <tr>\n",
              "      <th>2</th>\n",
              "      <td>655</td>\n",
              "      <td>\\nThis release is a port version of Amrut’s In...</td>\n",
              "      <td>1</td>\n",
              "    </tr>\n",
              "    <tr>\n",
              "      <th>3</th>\n",
              "      <td>555</td>\n",
              "      <td>\\nThis 41 year old single cask was aged in a s...</td>\n",
              "      <td>1</td>\n",
              "    </tr>\n",
              "    <tr>\n",
              "      <th>4</th>\n",
              "      <td>1965</td>\n",
              "      <td>\\nQuite herbal on the nose, with aromas of dri...</td>\n",
              "      <td>1</td>\n",
              "    </tr>\n",
              "    <tr>\n",
              "      <th>5</th>\n",
              "      <td>3190</td>\n",
              "      <td>\\nCooley produced some great Irish single malt...</td>\n",
              "      <td>1</td>\n",
              "    </tr>\n",
              "  </tbody>\n",
              "</table>\n",
              "</div>"
            ],
            "text/plain": [
              "     id                                        description  ratingCategory\n",
              "0  1321  \\nSometimes, when whisky is batched, a few lef...               1\n",
              "2   655  \\nThis release is a port version of Amrut’s In...               1\n",
              "3   555  \\nThis 41 year old single cask was aged in a s...               1\n",
              "4  1965  \\nQuite herbal on the nose, with aromas of dri...               1\n",
              "5  3190  \\nCooley produced some great Irish single malt...               1"
            ]
          },
          "metadata": {
            "tags": []
          },
          "execution_count": 16
        }
      ]
    },
    {
      "cell_type": "code",
      "metadata": {
        "id": "UaDJjLTMw5jp",
        "colab_type": "code",
        "outputId": "09d1dc3d-db99-463e-f740-7deb69d7d37d",
        "colab": {
          "base_uri": "https://localhost:8080/",
          "height": 54
        }
      },
      "source": [
        "df_upsampled['description'][0]\n"
      ],
      "execution_count": 17,
      "outputs": [
        {
          "output_type": "execute_result",
          "data": {
            "text/plain": [
              "'\\nSometimes, when whisky is batched, a few leftover barrels are returned to the warehouse. Canadian Club recently pulled and vatted several of these from the 1970s. Acetone, Granny Smith apples, and fresh-cut white cedar showcase this long age. Complex and spicy, yet reserved, this dram is ripe with strawberries, canned pears, cloves, pepper, and faint flowers, then slightly pulling oak tannins. Distinct, elegant, and remarkably vibrant, this ancient Canadian Club is anything but tired. (Australia only)\\xa0A$133'"
            ]
          },
          "metadata": {
            "tags": []
          },
          "execution_count": 17
        }
      ]
    },
    {
      "cell_type": "markdown",
      "metadata": {
        "id": "2BCl8PyghyuH",
        "colab_type": "text"
      },
      "source": [
        "## Clean data"
      ]
    },
    {
      "cell_type": "code",
      "metadata": {
        "id": "tauUv-6ow8rC",
        "colab_type": "code",
        "outputId": "b6e392b4-e85f-436c-a9cc-5dd61099c24f",
        "colab": {
          "base_uri": "https://localhost:8080/",
          "height": 326
        }
      },
      "source": [
        "import re\n",
        "\n",
        "def cleandesc(text):\n",
        "    text = text[1:-1]\n",
        "    text = re.sub('\\(.*$', '', text)\n",
        "    return text\n",
        "\n",
        "print(cleandesc(train['description'][0]))\n",
        "\n",
        "df_upsampled['cleandesc'] = df_upsampled['description'].apply(cleandesc)\n",
        "test['cleandesc'] = test['description'].apply(cleandesc)\n",
        "\n",
        "df_upsampled.head()"
      ],
      "execution_count": 18,
      "outputs": [
        {
          "output_type": "stream",
          "text": [
            "Sometimes, when whisky is batched, a few leftover barrels are returned to the warehouse. Canadian Club recently pulled and vatted several of these from the 1970s. Acetone, Granny Smith apples, and fresh-cut white cedar showcase this long age. Complex and spicy, yet reserved, this dram is ripe with strawberries, canned pears, cloves, pepper, and faint flowers, then slightly pulling oak tannins. Distinct, elegant, and remarkably vibrant, this ancient Canadian Club is anything but tired. \n"
          ],
          "name": "stdout"
        },
        {
          "output_type": "execute_result",
          "data": {
            "text/html": [
              "<div>\n",
              "<style scoped>\n",
              "    .dataframe tbody tr th:only-of-type {\n",
              "        vertical-align: middle;\n",
              "    }\n",
              "\n",
              "    .dataframe tbody tr th {\n",
              "        vertical-align: top;\n",
              "    }\n",
              "\n",
              "    .dataframe thead th {\n",
              "        text-align: right;\n",
              "    }\n",
              "</style>\n",
              "<table border=\"1\" class=\"dataframe\">\n",
              "  <thead>\n",
              "    <tr style=\"text-align: right;\">\n",
              "      <th></th>\n",
              "      <th>id</th>\n",
              "      <th>description</th>\n",
              "      <th>ratingCategory</th>\n",
              "      <th>cleandesc</th>\n",
              "    </tr>\n",
              "  </thead>\n",
              "  <tbody>\n",
              "    <tr>\n",
              "      <th>0</th>\n",
              "      <td>1321</td>\n",
              "      <td>\\nSometimes, when whisky is batched, a few lef...</td>\n",
              "      <td>1</td>\n",
              "      <td>Sometimes, when whisky is batched, a few lefto...</td>\n",
              "    </tr>\n",
              "    <tr>\n",
              "      <th>2</th>\n",
              "      <td>655</td>\n",
              "      <td>\\nThis release is a port version of Amrut’s In...</td>\n",
              "      <td>1</td>\n",
              "      <td>This release is a port version of Amrut’s Inte...</td>\n",
              "    </tr>\n",
              "    <tr>\n",
              "      <th>3</th>\n",
              "      <td>555</td>\n",
              "      <td>\\nThis 41 year old single cask was aged in a s...</td>\n",
              "      <td>1</td>\n",
              "      <td>This 41 year old single cask was aged in a she...</td>\n",
              "    </tr>\n",
              "    <tr>\n",
              "      <th>4</th>\n",
              "      <td>1965</td>\n",
              "      <td>\\nQuite herbal on the nose, with aromas of dri...</td>\n",
              "      <td>1</td>\n",
              "      <td>Quite herbal on the nose, with aromas of dried...</td>\n",
              "    </tr>\n",
              "    <tr>\n",
              "      <th>5</th>\n",
              "      <td>3190</td>\n",
              "      <td>\\nCooley produced some great Irish single malt...</td>\n",
              "      <td>1</td>\n",
              "      <td>Cooley produced some great Irish single malt w...</td>\n",
              "    </tr>\n",
              "  </tbody>\n",
              "</table>\n",
              "</div>"
            ],
            "text/plain": [
              "     id  ...                                          cleandesc\n",
              "0  1321  ...  Sometimes, when whisky is batched, a few lefto...\n",
              "2   655  ...  This release is a port version of Amrut’s Inte...\n",
              "3   555  ...  This 41 year old single cask was aged in a she...\n",
              "4  1965  ...  Quite herbal on the nose, with aromas of dried...\n",
              "5  3190  ...  Cooley produced some great Irish single malt w...\n",
              "\n",
              "[5 rows x 4 columns]"
            ]
          },
          "metadata": {
            "tags": []
          },
          "execution_count": 18
        }
      ]
    },
    {
      "cell_type": "markdown",
      "metadata": {
        "id": "hZQmvyI_wy5H",
        "colab_type": "text"
      },
      "source": [
        "## Build a Baseline TF-IDF Model"
      ]
    },
    {
      "cell_type": "code",
      "metadata": {
        "id": "wYOPoKV3w0JY",
        "colab_type": "code",
        "colab": {}
      },
      "source": [
        "# Create Pipeline Components\n",
        "vect = TfidfVectorizer(stop_words='english', ngram_range=(1,2))\n",
        "clf = RandomForestClassifier()\n",
        "pipe = Pipeline([('vect', vect), ('clf', clf)])"
      ],
      "execution_count": 0,
      "outputs": []
    },
    {
      "cell_type": "code",
      "metadata": {
        "id": "j2auexnAx9Sk",
        "colab_type": "code",
        "colab": {}
      },
      "source": [
        "# Log in current specs because this is running for 6 minutes \n",
        "# n_jobs = -2 can help with CPU power \n",
        "\n",
        "# What I originally did \n",
        "# parameters = {\n",
        "#     'vect__max_df': (0.7, 1.0),\n",
        "#     'vect__min_df': (2, 5, 10),\n",
        "#     'vect__max_features': (5000, 10000),\n",
        "#     'clf__n_estimators': (100, 500),\n",
        "#     'clf__max_depth': (10, 20)\n",
        "# }\n",
        "\n",
        "parameters = {\n",
        "    'vect__max_df': (0.7, 1.0),\n",
        "    'clf__max_depth': (10, 20)\n",
        "}\n",
        "\n",
        "grid_search = GridSearchCV(pipe, parameters, cv=5, n_jobs=4, verbose=1)\n"
      ],
      "execution_count": 0,
      "outputs": []
    },
    {
      "cell_type": "code",
      "metadata": {
        "id": "iC0x0kDFuwoq",
        "colab_type": "code",
        "colab": {
          "base_uri": "https://localhost:8080/",
          "height": 221
        },
        "outputId": "745ad759-76c0-4c05-e057-2c42b1209873"
      },
      "source": [
        "train['ratingCategory']"
      ],
      "execution_count": 32,
      "outputs": [
        {
          "output_type": "execute_result",
          "data": {
            "text/plain": [
              "0       1\n",
              "1       0\n",
              "2       1\n",
              "3       1\n",
              "4       1\n",
              "       ..\n",
              "4082    1\n",
              "4083    1\n",
              "4084    1\n",
              "4085    1\n",
              "4086    1\n",
              "Name: ratingCategory, Length: 4087, dtype: int64"
            ]
          },
          "metadata": {
            "tags": []
          },
          "execution_count": 32
        }
      ]
    },
    {
      "cell_type": "code",
      "metadata": {
        "id": "cCOUXqLGuyZ7",
        "colab_type": "code",
        "colab": {
          "base_uri": "https://localhost:8080/",
          "height": 204
        },
        "outputId": "988f448d-252d-40de-93f5-f8eb3d220842"
      },
      "source": [
        "train.head()"
      ],
      "execution_count": 33,
      "outputs": [
        {
          "output_type": "execute_result",
          "data": {
            "text/html": [
              "<div>\n",
              "<style scoped>\n",
              "    .dataframe tbody tr th:only-of-type {\n",
              "        vertical-align: middle;\n",
              "    }\n",
              "\n",
              "    .dataframe tbody tr th {\n",
              "        vertical-align: top;\n",
              "    }\n",
              "\n",
              "    .dataframe thead th {\n",
              "        text-align: right;\n",
              "    }\n",
              "</style>\n",
              "<table border=\"1\" class=\"dataframe\">\n",
              "  <thead>\n",
              "    <tr style=\"text-align: right;\">\n",
              "      <th></th>\n",
              "      <th>id</th>\n",
              "      <th>description</th>\n",
              "      <th>ratingCategory</th>\n",
              "    </tr>\n",
              "  </thead>\n",
              "  <tbody>\n",
              "    <tr>\n",
              "      <th>0</th>\n",
              "      <td>1321</td>\n",
              "      <td>\\nSometimes, when whisky is batched, a few lef...</td>\n",
              "      <td>1</td>\n",
              "    </tr>\n",
              "    <tr>\n",
              "      <th>1</th>\n",
              "      <td>3861</td>\n",
              "      <td>\\nAn uncommon exclusive bottling of a 6 year o...</td>\n",
              "      <td>0</td>\n",
              "    </tr>\n",
              "    <tr>\n",
              "      <th>2</th>\n",
              "      <td>655</td>\n",
              "      <td>\\nThis release is a port version of Amrut’s In...</td>\n",
              "      <td>1</td>\n",
              "    </tr>\n",
              "    <tr>\n",
              "      <th>3</th>\n",
              "      <td>555</td>\n",
              "      <td>\\nThis 41 year old single cask was aged in a s...</td>\n",
              "      <td>1</td>\n",
              "    </tr>\n",
              "    <tr>\n",
              "      <th>4</th>\n",
              "      <td>1965</td>\n",
              "      <td>\\nQuite herbal on the nose, with aromas of dri...</td>\n",
              "      <td>1</td>\n",
              "    </tr>\n",
              "  </tbody>\n",
              "</table>\n",
              "</div>"
            ],
            "text/plain": [
              "     id                                        description  ratingCategory\n",
              "0  1321  \\nSometimes, when whisky is batched, a few lef...               1\n",
              "1  3861  \\nAn uncommon exclusive bottling of a 6 year o...               0\n",
              "2   655  \\nThis release is a port version of Amrut’s In...               1\n",
              "3   555  \\nThis 41 year old single cask was aged in a s...               1\n",
              "4  1965  \\nQuite herbal on the nose, with aromas of dri...               1"
            ]
          },
          "metadata": {
            "tags": []
          },
          "execution_count": 33
        }
      ]
    },
    {
      "cell_type": "code",
      "metadata": {
        "id": "FZFdFaMbu9Df",
        "colab_type": "code",
        "colab": {}
      },
      "source": [
        "#df_upsampled['cleandesc'] = df_upsampled['description'].apply(cleandesc)\n",
        "train['cleandesc'] = train['description'].apply(cleandesc)"
      ],
      "execution_count": 0,
      "outputs": []
    },
    {
      "cell_type": "code",
      "metadata": {
        "id": "Z6WCNzxLum4i",
        "colab_type": "code",
        "colab": {
          "base_uri": "https://localhost:8080/",
          "height": 221
        },
        "outputId": "1a3131c3-caa1-4b0c-c055-eafb8a1ad3b5"
      },
      "source": [
        "train['cleandesc']"
      ],
      "execution_count": 35,
      "outputs": [
        {
          "output_type": "execute_result",
          "data": {
            "text/plain": [
              "0       Sometimes, when whisky is batched, a few lefto...\n",
              "1       An uncommon exclusive bottling of a 6 year old...\n",
              "2       This release is a port version of Amrut’s Inte...\n",
              "3       This 41 year old single cask was aged in a she...\n",
              "4       Quite herbal on the nose, with aromas of dried...\n",
              "                              ...                        \n",
              "4082    What lies beneath the surface of Dewar’s? Here...\n",
              "4083    After 6 to 7 years of maturation in bourbon ca...\n",
              "4084    Bright, delicate, and approachable. While not ...\n",
              "4085    I’m calling this the pitmaster’s dram: the nos...\n",
              "4086    Spicy sultanas, greengage plums, toffee, and n...\n",
              "Name: cleandesc, Length: 4087, dtype: object"
            ]
          },
          "metadata": {
            "tags": []
          },
          "execution_count": 35
        }
      ]
    },
    {
      "cell_type": "code",
      "metadata": {
        "id": "cYaVaLHXkKtw",
        "colab_type": "code",
        "colab": {
          "base_uri": "https://localhost:8080/",
          "height": 663
        },
        "outputId": "54713758-696f-4df4-88b7-b1fc4672e501"
      },
      "source": [
        "grid_search.fit(train['cleandesc'], train['ratingCategory'])"
      ],
      "execution_count": 36,
      "outputs": [
        {
          "output_type": "stream",
          "text": [
            "Fitting 5 folds for each of 4 candidates, totalling 20 fits\n"
          ],
          "name": "stdout"
        },
        {
          "output_type": "stream",
          "text": [
            "[Parallel(n_jobs=4)]: Using backend LokyBackend with 4 concurrent workers.\n",
            "[Parallel(n_jobs=4)]: Done  20 out of  20 | elapsed:   23.1s finished\n"
          ],
          "name": "stderr"
        },
        {
          "output_type": "execute_result",
          "data": {
            "text/plain": [
              "GridSearchCV(cv=5, error_score=nan,\n",
              "             estimator=Pipeline(memory=None,\n",
              "                                steps=[('vect',\n",
              "                                        TfidfVectorizer(analyzer='word',\n",
              "                                                        binary=False,\n",
              "                                                        decode_error='strict',\n",
              "                                                        dtype=<class 'numpy.float64'>,\n",
              "                                                        encoding='utf-8',\n",
              "                                                        input='content',\n",
              "                                                        lowercase=True,\n",
              "                                                        max_df=1.0,\n",
              "                                                        max_features=None,\n",
              "                                                        min_df=1,\n",
              "                                                        ngram_range=(1, 2),\n",
              "                                                        norm='l2',\n",
              "                                                        preprocessor=None,\n",
              "                                                        smooth_idf=True,\n",
              "                                                        stop_words='english',\n",
              "                                                        strip...\n",
              "                                                               min_impurity_split=None,\n",
              "                                                               min_samples_leaf=1,\n",
              "                                                               min_samples_split=2,\n",
              "                                                               min_weight_fraction_leaf=0.0,\n",
              "                                                               n_estimators=100,\n",
              "                                                               n_jobs=None,\n",
              "                                                               oob_score=False,\n",
              "                                                               random_state=None,\n",
              "                                                               verbose=0,\n",
              "                                                               warm_start=False))],\n",
              "                                verbose=False),\n",
              "             iid='deprecated', n_jobs=4,\n",
              "             param_grid={'clf__max_depth': (10, 20),\n",
              "                         'vect__max_df': (0.7, 1.0)},\n",
              "             pre_dispatch='2*n_jobs', refit=True, return_train_score=False,\n",
              "             scoring=None, verbose=1)"
            ]
          },
          "metadata": {
            "tags": []
          },
          "execution_count": 36
        }
      ]
    },
    {
      "cell_type": "code",
      "metadata": {
        "id": "HRkLzH-ah2OL",
        "colab_type": "code",
        "colab": {
          "base_uri": "https://localhost:8080/",
          "height": 164
        },
        "outputId": "2219c82f-aac1-4fc5-af0a-af6851b748b8"
      },
      "source": [
        "grid_search.best_params_\n"
      ],
      "execution_count": 23,
      "outputs": [
        {
          "output_type": "error",
          "ename": "AttributeError",
          "evalue": "ignored",
          "traceback": [
            "\u001b[0;31m---------------------------------------------------------------------------\u001b[0m",
            "\u001b[0;31mAttributeError\u001b[0m                            Traceback (most recent call last)",
            "\u001b[0;32m<ipython-input-23-b1068600e498>\u001b[0m in \u001b[0;36m<module>\u001b[0;34m()\u001b[0m\n\u001b[0;32m----> 1\u001b[0;31m \u001b[0mgrid_search\u001b[0m\u001b[0;34m.\u001b[0m\u001b[0mbest_params_\u001b[0m\u001b[0;34m\u001b[0m\u001b[0;34m\u001b[0m\u001b[0m\n\u001b[0m",
            "\u001b[0;31mAttributeError\u001b[0m: 'GridSearchCV' object has no attribute 'best_params_'"
          ]
        }
      ]
    },
    {
      "cell_type": "code",
      "metadata": {
        "id": "HwUtJSBrxPeD",
        "colab_type": "code",
        "outputId": "f02b30c5-0364-4078-d177-4d3005620f8f",
        "colab": {
          "base_uri": "https://localhost:8080/",
          "height": 34
        }
      },
      "source": [
        "import pandas as pd\n",
        "\n",
        "# Get sparse dtm\n",
        "dtm = vect.fit_transform()\n",
        "\n",
        "# Convert to dataframe\n",
        "dtm = pd.DataFrame(dtm.todense(), columns=vect.get_feature_names())\n",
        "dtm.shape"
      ],
      "execution_count": 10,
      "outputs": [
        {
          "output_type": "execute_result",
          "data": {
            "text/plain": [
              "(3, 3)"
            ]
          },
          "metadata": {
            "tags": []
          },
          "execution_count": 10
        }
      ]
    },
    {
      "cell_type": "code",
      "metadata": {
        "id": "WC3ll2KP4ESb",
        "colab_type": "code",
        "colab": {}
      },
      "source": [
        "# Stuck on splitting? \n",
        "grid_search.fit()"
      ],
      "execution_count": 0,
      "outputs": []
    },
    {
      "cell_type": "code",
      "metadata": {
        "id": "egv-QpMZyCHP",
        "colab_type": "code",
        "colab": {}
      },
      "source": [
        "grid_search.best_score_"
      ],
      "execution_count": 0,
      "outputs": []
    },
    {
      "cell_type": "code",
      "metadata": {
        "id": "hps7nX5Xz345",
        "colab_type": "code",
        "colab": {}
      },
      "source": [
        "grid_search.best_params_"
      ],
      "execution_count": 0,
      "outputs": []
    },
    {
      "cell_type": "code",
      "metadata": {
        "id": "rgYtwmBqz4_F",
        "colab_type": "code",
        "colab": {}
      },
      "source": [
        "from sklearn.metrics import accuracy_score\n",
        "\n",
        "# Evaluate on test data\n",
        "y_test = grid_search.predict()\n",
        "accuracy_score(newsgroups_test.target, y_test)"
      ],
      "execution_count": 0,
      "outputs": []
    }
  ]
}